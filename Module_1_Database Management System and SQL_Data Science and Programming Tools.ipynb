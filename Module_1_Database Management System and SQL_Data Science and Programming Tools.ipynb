{
 "cells": [
  {
   "cell_type": "markdown",
   "id": "2d7014cb",
   "metadata": {},
   "source": [
    "                             LAB ASSIGNMENTS \n",
    "\n",
    "                Module 1: Data Science and Programming Tools\n",
    "    \n",
    "                       Database Management System and SQL     "
   ]
  },
  {
   "cell_type": "code",
   "execution_count": 1,
   "id": "eca7ded7",
   "metadata": {},
   "outputs": [],
   "source": [
    "#Importing required libraries in one cell followed as a best practise in every Jupyter notebook\n",
    "\n",
    "import numpy as np\n",
    "import pandas as pd\n",
    "import matplotlib.pyplot as plt"
   ]
  },
  {
   "cell_type": "markdown",
   "id": "654fd8cb",
   "metadata": {},
   "source": [
    "Write a program to display choices to user\n",
    "1. Insert---- call insertDept function\n",
    "2. Delete---- call deleteDept – delete a particular record\n",
    "3. Update---- call updateDept – update details of particular department\n",
    "4. Display All --- call displayAllDept – display only department name\n",
    "5. Display ------ call displayDept – display a particular department\n",
    "6. Displaydept – will display all the locations which contains or in it\n",
    "7. Exit"
   ]
  },
  {
   "cell_type": "code",
   "execution_count": null,
   "id": "89346c69",
   "metadata": {},
   "outputs": [
    {
     "name": "stdout",
     "output_type": "stream",
     "text": [
      "Please choose an option:\n",
      "1. Insert\n",
      "2. Delete\n",
      "3. Update\n",
      "4. Display All\n",
      "5. Display\n",
      "6. Displaydept\n",
      "7. Exit\n"
     ]
    }
   ],
   "source": [
    "def insertDept():\n",
    "    # Implementation of the insertDept function\n",
    "    pass\n",
    "\n",
    "def deleteDept():\n",
    "    # Implementation of the deleteDept function\n",
    "    pass\n",
    "\n",
    "def updateDept():\n",
    "    # Implementation of the updateDept function\n",
    "    pass\n",
    "\n",
    "def displayAllDept():\n",
    "    # Implementation of the displayAllDept function\n",
    "    pass\n",
    "\n",
    "def displayDept():\n",
    "    # Implementation of the displayDept function\n",
    "    pass\n",
    "\n",
    "def displayDept():\n",
    "    # Implementation of the displayDept function\n",
    "    pass\n",
    "\n",
    "# Main program\n",
    "while True:\n",
    "    print(\"Please choose an option:\")\n",
    "    print(\"1. Insert\")\n",
    "    print(\"2. Delete\")\n",
    "    print(\"3. Update\")\n",
    "    print(\"4. Display All\")\n",
    "    print(\"5. Display\")\n",
    "    print(\"6. Displaydept\")\n",
    "    print(\"7. Exit\")\n",
    "\n",
    "    choice = input(\"Enter your choice: \")\n",
    "\n",
    "    if choice == \"1\":\n",
    "        insertDept()\n",
    "    elif choice == \"2\":\n",
    "        deleteDept()\n",
    "    elif choice == \"3\":\n",
    "        updateDept()\n",
    "    elif choice == \"4\":\n",
    "        displayAllDept()\n",
    "    elif choice == \"5\":\n",
    "        displayDept()\n",
    "    elif choice == \"6\":\n",
    "        displaydept()\n",
    "    elif choice == \"7\":\n",
    "        print(\"Exit\")\n",
    "        break\n",
    "    else:\n",
    "        print(\"Invalid choice. Please try again.\")\n"
   ]
  },
  {
   "cell_type": "code",
   "execution_count": null,
   "id": "508cc628",
   "metadata": {},
   "outputs": [],
   "source": []
  }
 ],
 "metadata": {
  "kernelspec": {
   "display_name": "Python 3 (ipykernel)",
   "language": "python",
   "name": "python3"
  },
  "language_info": {
   "codemirror_mode": {
    "name": "ipython",
    "version": 3
   },
   "file_extension": ".py",
   "mimetype": "text/x-python",
   "name": "python",
   "nbconvert_exporter": "python",
   "pygments_lexer": "ipython3",
   "version": "3.10.9"
  }
 },
 "nbformat": 4,
 "nbformat_minor": 5
}
