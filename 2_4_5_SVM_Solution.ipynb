{
 "cells": [
  {
   "cell_type": "markdown",
   "id": "b5bf722d",
   "metadata": {},
   "source": [
    "                                                LAB ASSIGNMENTS\n",
    "                                            Module 2: Machine Learning\n"
   ]
  },
  {
   "cell_type": "markdown",
   "id": "1eee4fe4",
   "metadata": {},
   "source": [
    "Support Vector Machine"
   ]
  },
  {
   "cell_type": "markdown",
   "id": "fa01a681",
   "metadata": {},
   "source": [
    "Consider iris.csv dataset, perform label encoding\n",
    "a. Calculate accuracy_score\n",
    "b. perform random grid search CV find best_score"
   ]
  },
  {
   "cell_type": "code",
   "execution_count": 1,
   "id": "3cf3f700",
   "metadata": {},
   "outputs": [],
   "source": [
    "import pandas as pd\n",
    "from sklearn.model_selection import train_test_split\n",
    "from sklearn.preprocessing import LabelEncoder\n",
    "from sklearn.ensemble import RandomForestClassifier\n",
    "from sklearn.model_selection import RandomizedSearchCV\n",
    "from sklearn.metrics import accuracy_score\n",
    "\n"
   ]
  },
  {
   "cell_type": "code",
   "execution_count": 2,
   "id": "f78a1ec8",
   "metadata": {},
   "outputs": [
    {
     "name": "stdout",
     "output_type": "stream",
     "text": [
      "Accuracy Score: 1.00\n",
      "Best Score from RandomizedSearchCV: 0.95\n"
     ]
    }
   ],
   "source": [
    "# Load the dataset\n",
    "data = pd.read_csv(r'D:\\1_AJINKYA_PAWAR\\3_SOFTWARE JOB\\1_CDAC\\3_AI_Course\\Lab_Assignment_Module_2\\2_4_5_SVM_1Hr\\iris.csv')\n",
    "\n",
    "# Performing label encoding on the target variable 'Species'\n",
    "label_encoder = LabelEncoder()\n",
    "data['Species'] = label_encoder.fit_transform(data['Species'])\n",
    "\n",
    "# Splitting the dataset into features (X) and the encoded target (y)\n",
    "X = data.drop('Species', axis=1)\n",
    "y = data['Species']\n",
    "\n",
    "# Splitting the data into a training and testing set\n",
    "X_train, X_test, y_train, y_test = train_test_split(X, y, test_size=0.2, random_state=0)\n",
    "\n",
    "# Creatng a random forest classifier\n",
    "rf_model = RandomForestClassifier(random_state=0)\n",
    "\n",
    "# Defining hyperparameter grid for RandomizedSearchCV\n",
    "param_dist = {\n",
    "    'n_estimators': [100, 200, 300],\n",
    "    'max_depth': [None, 10, 20, 30],\n",
    "    'min_samples_split': [2, 5, 10],\n",
    "    'min_samples_leaf': [1, 2, 4],\n",
    "}\n",
    "\n",
    "# Creating a RandomizedSearchCV object\n",
    "random_search = RandomizedSearchCV(rf_model, param_distributions=param_dist, n_iter=10, cv=5, scoring='accuracy', random_state=0)\n",
    "\n",
    "# Fitting the RandomizedSearchCV model\n",
    "random_search.fit(X_train, y_train)\n",
    "\n",
    "# Part a: Calculating accuracy score\n",
    "y_pred = random_search.predict(X_test)\n",
    "accuracy = accuracy_score(y_test, y_pred)\n",
    "print(f'Accuracy Score: {accuracy:.2f}')\n",
    "\n",
    "# Part b: Finding the best_score from RandomizedSearchCV\n",
    "best_score = random_search.best_score_\n",
    "print(f'Best Score from RandomizedSearchCV: {best_score:.2f}')\n"
   ]
  },
  {
   "cell_type": "markdown",
   "id": "65ec23c7",
   "metadata": {},
   "source": [
    "                                                        ***"
   ]
  },
  {
   "cell_type": "code",
   "execution_count": null,
   "id": "be79fa9c",
   "metadata": {},
   "outputs": [],
   "source": []
  }
 ],
 "metadata": {
  "kernelspec": {
   "display_name": "Python 3 (ipykernel)",
   "language": "python",
   "name": "python3"
  },
  "language_info": {
   "codemirror_mode": {
    "name": "ipython",
    "version": 3
   },
   "file_extension": ".py",
   "mimetype": "text/x-python",
   "name": "python",
   "nbconvert_exporter": "python",
   "pygments_lexer": "ipython3",
   "version": "3.11.5"
  }
 },
 "nbformat": 4,
 "nbformat_minor": 5
}
