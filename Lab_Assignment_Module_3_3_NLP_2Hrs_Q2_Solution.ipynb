{
 "cells": [
  {
   "cell_type": "markdown",
   "id": "f8d14175",
   "metadata": {},
   "source": [
    "                                                LAB ASSIGNMENT 3 Q2\n"
   ]
  },
  {
   "cell_type": "markdown",
   "id": "4d544346",
   "metadata": {},
   "source": [
    "2. Take the tweets given in the attached file Clean the data (use Pfizer-vaccine-tweets dataset)\n",
    "a. Count all the hashtags and @ tags.\n",
    "b. Remove the special characters"
   ]
  },
  {
   "cell_type": "code",
   "execution_count": 1,
   "id": "5dd329d6",
   "metadata": {},
   "outputs": [],
   "source": [
    "import pandas as pd\n",
    "import re\n",
    "\n"
   ]
  },
  {
   "cell_type": "code",
   "execution_count": 2,
   "id": "fceaa3c2",
   "metadata": {},
   "outputs": [
    {
     "name": "stdout",
     "output_type": "stream",
     "text": [
      "                                                    text  Hashtags_Count  \\\n",
      "0      Same folks said daikon paste could treat a cyt...               1   \n",
      "1      While the world has been on the wrong side of ...               0   \n",
      "2      #coronavirus #SputnikV #AstraZeneca #PfizerBio...               6   \n",
      "3      Facts are immutable, Senator, even when you're...               0   \n",
      "4      Explain to me again why we need a vaccine @Bor...               2   \n",
      "...                                                  ...             ...   \n",
      "10148  The effectiveness of the #PfizerBioNTech vacci...               2   \n",
      "10149  #PfizerBioNTech #pfizer #PfizerGang my brother...               3   \n",
      "10150  @thelucyjohnston Enriching #BillGates and #Pfi...               2   \n",
      "10151  Say What Now!? 🤯\\n\\n#PfizerBioNTech 💉  #Israel...               2   \n",
      "10152  Done! #FullyVaccinated #PfizerGang #PfizerBioN...               3   \n",
      "\n",
      "       Mentions_Count                                       Cleaned_Text  \n",
      "0                   0  Same folks said daikon paste could treat a cyt...  \n",
      "1                   0  While the world has been on the wrong side of ...  \n",
      "2                   0  #coronavirus #SputnikV #AstraZeneca #PfizerBio...  \n",
      "3                   0  Facts are immutable Senator even when youre no...  \n",
      "4                   2  Explain to me again why we need a vaccine @Bor...  \n",
      "...               ...                                                ...  \n",
      "10148               0  The effectiveness of the #PfizerBioNTech vacci...  \n",
      "10149               0  #PfizerBioNTech #pfizer #PfizerGang my brother...  \n",
      "10150               1  @thelucyjohnston Enriching #BillGates and #Pfi...  \n",
      "10151               0  Say What Now \\n\\n#PfizerBioNTech   #Israel   h...  \n",
      "10152               0  Done #FullyVaccinated #PfizerGang #PfizerBioNT...  \n",
      "\n",
      "[10153 rows x 4 columns]\n"
     ]
    }
   ],
   "source": [
    "# Loading the dataset\n",
    "df = pd.read_csv(r'D:\\1_AJINKYA_PAWAR\\3_SOFTWARE JOB\\1_CDAC\\3_AI_Course\\Lab_Assignment_Module_3\\3_3_NLP_2Hrs\\Pfizer-vaccin_tweets.csv')\n",
    "\n",
    "# Defining functions to count hashtags and mentions, and remove special characters\n",
    "def count_hashtags(tweet):\n",
    "    hashtags = re.findall(r'#\\w+', tweet)\n",
    "    return len(hashtags)\n",
    "\n",
    "def count_mentions(tweet):\n",
    "    mentions = re.findall(r'@\\w+', tweet)\n",
    "    return len(mentions)\n",
    "\n",
    "def remove_special_characters(tweet):\n",
    "    cleaned_tweet = re.sub(r'[^A-Za-z0-9\\s#@]+', '', tweet)\n",
    "    return cleaned_tweet\n",
    "\n",
    "# Counting hashtags and mentions\n",
    "df['Hashtags_Count'] = df['text'].apply(count_hashtags)\n",
    "df['Mentions_Count'] = df['text'].apply(count_mentions)\n",
    "\n",
    "# Removing special characters\n",
    "df['Cleaned_Text'] = df['text'].apply(remove_special_characters)\n",
    "\n",
    "# Displaying the modified DataFrame\n",
    "print(df[['text', 'Hashtags_Count', 'Mentions_Count', 'Cleaned_Text']])\n"
   ]
  },
  {
   "cell_type": "code",
   "execution_count": null,
   "id": "331dfeee",
   "metadata": {},
   "outputs": [],
   "source": []
  }
 ],
 "metadata": {
  "kernelspec": {
   "display_name": "Python 3 (ipykernel)",
   "language": "python",
   "name": "python3"
  },
  "language_info": {
   "codemirror_mode": {
    "name": "ipython",
    "version": 3
   },
   "file_extension": ".py",
   "mimetype": "text/x-python",
   "name": "python",
   "nbconvert_exporter": "python",
   "pygments_lexer": "ipython3",
   "version": "3.11.5"
  }
 },
 "nbformat": 4,
 "nbformat_minor": 5
}
