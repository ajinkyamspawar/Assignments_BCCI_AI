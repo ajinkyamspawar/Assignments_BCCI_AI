{
 "cells": [
  {
   "cell_type": "markdown",
   "id": "0ea4d9aa",
   "metadata": {},
   "source": [
    "                                            LAB ASSIGNMENTS\n",
    "                                       Module 2: Machine Learning"
   ]
  },
  {
   "cell_type": "markdown",
   "id": "b873aefc",
   "metadata": {},
   "source": [
    "Classification, Regression & Clustering"
   ]
  },
  {
   "cell_type": "markdown",
   "id": "ed24f26c",
   "metadata": {},
   "source": [
    "Q2_Perform classification task using KNN classification method on winequality-red.csv dataset, find accuracy_score?"
   ]
  },
  {
   "cell_type": "code",
   "execution_count": 1,
   "id": "b2216419",
   "metadata": {},
   "outputs": [
    {
     "name": "stdout",
     "output_type": "stream",
     "text": [
      "   fixed acidity  volatile acidity  citric acid  residual sugar  chlorides  \\\n",
      "0            7.4              0.70         0.00             1.9      0.076   \n",
      "1            7.8              0.88         0.00             2.6      0.098   \n",
      "2            7.8              0.76         0.04             2.3      0.092   \n",
      "3           11.2              0.28         0.56             1.9      0.075   \n",
      "4            7.4              0.70         0.00             1.9      0.076   \n",
      "\n",
      "   free sulfur dioxide  total sulfur dioxide  density    pH  sulphates  \\\n",
      "0                 11.0                  34.0   0.9978  3.51       0.56   \n",
      "1                 25.0                  67.0   0.9968  3.20       0.68   \n",
      "2                 15.0                  54.0   0.9970  3.26       0.65   \n",
      "3                 17.0                  60.0   0.9980  3.16       0.58   \n",
      "4                 11.0                  34.0   0.9978  3.51       0.56   \n",
      "\n",
      "   alcohol  quality  \n",
      "0      9.4        5  \n",
      "1      9.8        5  \n",
      "2      9.8        5  \n",
      "3      9.8        6  \n",
      "4      9.4        5  \n"
     ]
    }
   ],
   "source": [
    "import pandas as pd\n",
    "import numpy as np\n",
    "from sklearn.model_selection import train_test_split\n",
    "from sklearn.neighbors import KNeighborsClassifier\n",
    "from sklearn.metrics import accuracy_score\n",
    "\n",
    "# Loading the dataset\n",
    "data = pd.read_csv(r\"D:\\1_AJINKYA_PAWAR\\3_SOFTWARE JOB\\1_CDAC\\3_AI_Course\\Lab_Assignment_Module_2\\2_2_ClassificationRegressionClustering_1Hr\\winequality-red.csv\")\n",
    "\n",
    "# Displaying the first few rows of the dataset to understand its structure\n",
    "print(data.head())\n"
   ]
  },
  {
   "cell_type": "code",
   "execution_count": 2,
   "id": "e1a70108",
   "metadata": {},
   "outputs": [],
   "source": [
    "# Defining the features (X) and the target (y)\n",
    "X = data.drop('quality', axis=1)  # Features\n",
    "y = data['quality']  # Target variable\n",
    "\n",
    "# Splitting the data into training and testing sets\n",
    "X_train, X_test, y_train, y_test = train_test_split(X, y, test_size=0.2, random_state=42)\n"
   ]
  },
  {
   "cell_type": "code",
   "execution_count": 3,
   "id": "4ee734d5",
   "metadata": {},
   "outputs": [
    {
     "name": "stdout",
     "output_type": "stream",
     "text": [
      "Accuracy: 0.45625\n"
     ]
    }
   ],
   "source": [
    "# Initializing the KNN classifier with a chosen number of neighbors (e.g., k=5)\n",
    "knn = KNeighborsClassifier(n_neighbors=5)\n",
    "\n",
    "# Fitting the classifier to the training data\n",
    "knn.fit(X_train, y_train)\n",
    "\n",
    "# Making predictions on the test data\n",
    "y_pred = knn.predict(X_test)\n",
    "\n",
    "# Calculating the accuracy score\n",
    "accuracy = accuracy_score(y_test, y_pred)\n",
    "print(\"Accuracy:\", accuracy)\n"
   ]
  },
  {
   "cell_type": "code",
   "execution_count": null,
   "id": "e0b35b3e",
   "metadata": {},
   "outputs": [],
   "source": []
  }
 ],
 "metadata": {
  "kernelspec": {
   "display_name": "Python 3 (ipykernel)",
   "language": "python",
   "name": "python3"
  },
  "language_info": {
   "codemirror_mode": {
    "name": "ipython",
    "version": 3
   },
   "file_extension": ".py",
   "mimetype": "text/x-python",
   "name": "python",
   "nbconvert_exporter": "python",
   "pygments_lexer": "ipython3",
   "version": "3.11.5"
  }
 },
 "nbformat": 4,
 "nbformat_minor": 5
}
