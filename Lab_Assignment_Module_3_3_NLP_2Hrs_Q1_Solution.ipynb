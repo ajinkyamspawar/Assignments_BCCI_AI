{
 "cells": [
  {
   "cell_type": "code",
   "execution_count": 1,
   "id": "56f2d4a9",
   "metadata": {},
   "outputs": [],
   "source": [
    "#!pip install nltk\n"
   ]
  },
  {
   "cell_type": "code",
   "execution_count": 2,
   "id": "812c9828",
   "metadata": {},
   "outputs": [
    {
     "name": "stderr",
     "output_type": "stream",
     "text": [
      "[nltk_data] Downloading package punkt to\n",
      "[nltk_data]     C:\\Users\\ajink\\AppData\\Roaming\\nltk_data...\n",
      "[nltk_data]   Package punkt is already up-to-date!\n",
      "[nltk_data] Downloading package stopwords to\n",
      "[nltk_data]     C:\\Users\\ajink\\AppData\\Roaming\\nltk_data...\n",
      "[nltk_data]   Package stopwords is already up-to-date!\n",
      "[nltk_data] Downloading package averaged_perceptron_tagger to\n",
      "[nltk_data]     C:\\Users\\ajink\\AppData\\Roaming\\nltk_data...\n",
      "[nltk_data]   Unzipping taggers\\averaged_perceptron_tagger.zip.\n"
     ]
    }
   ],
   "source": [
    "import nltk\n",
    "nltk.download('punkt')\n",
    "nltk.download('stopwords')\n",
    "nltk.download('averaged_perceptron_tagger')\n",
    "from nltk.tokenize import sent_tokenize, word_tokenize\n",
    "from nltk.corpus import stopwords\n",
    "from nltk.stem import PorterStemmer\n",
    "from nltk import pos_tag\n",
    "\n"
   ]
  },
  {
   "cell_type": "code",
   "execution_count": 3,
   "id": "03d29d80",
   "metadata": {
    "scrolled": true
   },
   "outputs": [
    {
     "name": "stdout",
     "output_type": "stream",
     "text": [
      "a. Sentence Tokenization:\n",
      "Viruses are constantly evolving and changing.\n",
      "Every time a virus replicates, there is the potential for there to be changes in its structure.\n",
      "Each of these changes is a mutation.\n",
      "A virus with one or more mutations is called a variant of the original virus.\n",
      "Some mutations can lead to changes in important characteristics of the virus, including characteristics that affect its ability to spread and its ability to cause more severe illness and death.\n",
      "\n",
      "b. Word Tokenization:\n",
      "['Viruses', 'are', 'constantly', 'evolving', 'and', 'changing', '.', 'Every', 'time', 'a', 'virus', 'replicates', ',', 'there', 'is', 'the', 'potential', 'for', 'there', 'to', 'be', 'changes', 'in', 'its', 'structure', '.', 'Each', 'of', 'these', 'changes', 'is', 'a', 'mutation', '.', 'A', 'virus', 'with', 'one', 'or', 'more', 'mutations', 'is', 'called', 'a', 'variant', 'of', 'the', 'original', 'virus', '.', 'Some', 'mutations', 'can', 'lead', 'to', 'changes', 'in', 'important', 'characteristics', 'of', 'the', 'virus', ',', 'including', 'characteristics', 'that', 'affect', 'its', 'ability', 'to', 'spread', 'and', 'its', 'ability', 'to', 'cause', 'more', 'severe', 'illness', 'and', 'death', '.']\n",
      "\n",
      "c. Remove Stopwords:\n",
      "['Viruses', 'constantly', 'evolving', 'changing', '.', 'Every', 'time', 'virus', 'replicates', ',', 'potential', 'changes', 'structure', '.', 'changes', 'mutation', '.', 'virus', 'one', 'mutations', 'called', 'variant', 'original', 'virus', '.', 'mutations', 'lead', 'changes', 'important', 'characteristics', 'virus', ',', 'including', 'characteristics', 'affect', 'ability', 'spread', 'ability', 'cause', 'severe', 'illness', 'death', '.']\n",
      "\n",
      "d. POS Tagging:\n",
      "[('Viruses', 'NNS'), ('are', 'VBP'), ('constantly', 'RB'), ('evolving', 'VBG'), ('and', 'CC'), ('changing', 'VBG'), ('.', '.'), ('Every', 'JJ'), ('time', 'NN'), ('a', 'DT'), ('virus', 'NN'), ('replicates', 'VBZ'), (',', ','), ('there', 'EX'), ('is', 'VBZ'), ('the', 'DT'), ('potential', 'JJ'), ('for', 'IN'), ('there', 'EX'), ('to', 'TO'), ('be', 'VB'), ('changes', 'NNS'), ('in', 'IN'), ('its', 'PRP$'), ('structure', 'NN'), ('.', '.'), ('Each', 'DT'), ('of', 'IN'), ('these', 'DT'), ('changes', 'NNS'), ('is', 'VBZ'), ('a', 'DT'), ('mutation', 'NN'), ('.', '.'), ('A', 'DT'), ('virus', 'NN'), ('with', 'IN'), ('one', 'CD'), ('or', 'CC'), ('more', 'JJR'), ('mutations', 'NNS'), ('is', 'VBZ'), ('called', 'VBN'), ('a', 'DT'), ('variant', 'NN'), ('of', 'IN'), ('the', 'DT'), ('original', 'JJ'), ('virus', 'NN'), ('.', '.'), ('Some', 'DT'), ('mutations', 'NNS'), ('can', 'MD'), ('lead', 'VB'), ('to', 'TO'), ('changes', 'NNS'), ('in', 'IN'), ('important', 'JJ'), ('characteristics', 'NNS'), ('of', 'IN'), ('the', 'DT'), ('virus', 'NN'), (',', ','), ('including', 'VBG'), ('characteristics', 'NNS'), ('that', 'WDT'), ('affect', 'VBP'), ('its', 'PRP$'), ('ability', 'NN'), ('to', 'TO'), ('spread', 'VB'), ('and', 'CC'), ('its', 'PRP$'), ('ability', 'NN'), ('to', 'TO'), ('cause', 'VB'), ('more', 'JJR'), ('severe', 'JJ'), ('illness', 'NN'), ('and', 'CC'), ('death', 'NN'), ('.', '.')]\n",
      "\n",
      "e. Stemming:\n",
      "['virus', 'constantli', 'evolv', 'chang', '.', 'everi', 'time', 'viru', 'replic', ',', 'potenti', 'chang', 'structur', '.', 'chang', 'mutat', '.', 'viru', 'one', 'mutat', 'call', 'variant', 'origin', 'viru', '.', 'mutat', 'lead', 'chang', 'import', 'characterist', 'viru', ',', 'includ', 'characterist', 'affect', 'abil', 'spread', 'abil', 'caus', 'sever', 'ill', 'death', '.']\n"
     ]
    }
   ],
   "source": [
    "# Sample text\n",
    "text = \"Viruses are constantly evolving and changing. Every time a virus replicates, there is the potential for there to be changes in its structure. Each of these changes is a mutation. A virus with one or more mutations is called a variant of the original virus. Some mutations can lead to changes in important characteristics of the virus, including characteristics that affect its ability to spread and its ability to cause more severe illness and death.\"\n",
    "\n",
    "# a. Sentence Tokenization\n",
    "sentences = sent_tokenize(text)\n",
    "print(\"a. Sentence Tokenization:\")\n",
    "for sentence in sentences:\n",
    "    print(sentence)\n",
    "\n",
    "\n",
    "# b. Word Tokenization\n",
    "words = word_tokenize(text)\n",
    "print(\"\\nb. Word Tokenization:\")\n",
    "print(words)\n",
    "\n",
    "# c. Remove Stopwords\n",
    "stop_words = set(stopwords.words(\"english\"))\n",
    "filtered_words = [word for word in words if word.lower() not in stop_words]\n",
    "print(\"\\nc. Remove Stopwords:\")\n",
    "print(filtered_words)\n",
    "\n",
    "# d. POS Tagging\n",
    "pos_tags = pos_tag(words)\n",
    "print(\"\\nd. POS Tagging:\")\n",
    "print(pos_tags)\n",
    "\n",
    "# e. Stemming\n",
    "stemmer = PorterStemmer()\n",
    "stemmed_words = [stemmer.stem(word) for word in filtered_words]\n",
    "print(\"\\ne. Stemming:\")\n",
    "print(stemmed_words)"
   ]
  },
  {
   "cell_type": "code",
   "execution_count": null,
   "id": "006438eb",
   "metadata": {},
   "outputs": [],
   "source": []
  }
 ],
 "metadata": {
  "kernelspec": {
   "display_name": "Python 3 (ipykernel)",
   "language": "python",
   "name": "python3"
  },
  "language_info": {
   "codemirror_mode": {
    "name": "ipython",
    "version": 3
   },
   "file_extension": ".py",
   "mimetype": "text/x-python",
   "name": "python",
   "nbconvert_exporter": "python",
   "pygments_lexer": "ipython3",
   "version": "3.11.5"
  }
 },
 "nbformat": 4,
 "nbformat_minor": 5
}
