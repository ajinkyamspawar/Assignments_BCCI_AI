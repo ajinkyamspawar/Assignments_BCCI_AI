{
 "cells": [
  {
   "cell_type": "markdown",
   "id": "2d7014cb",
   "metadata": {},
   "source": [
    "                             LAB ASSIGNMENTS \n",
    "\n",
    "                Module 1: Data Science and Programming Tools\n",
    "    \n",
    "             Python Data Types and Language Basics, Python Functions    "
   ]
  },
  {
   "cell_type": "code",
   "execution_count": 1,
   "id": "eca7ded7",
   "metadata": {},
   "outputs": [],
   "source": [
    "#Importing required libraries in one cell followed as a best practise in every Jupyter notebook\n",
    "\n",
    "import numpy as np\n",
    "import pandas as pd\n",
    "import matplotlib.pyplot as plt"
   ]
  },
  {
   "cell_type": "markdown",
   "id": "3123c885",
   "metadata": {},
   "source": [
    "#### Q1. Reverse a given list in Python List = [100, 200, 300, 400, 500]"
   ]
  },
  {
   "cell_type": "code",
   "execution_count": 2,
   "id": "1b0431d1",
   "metadata": {},
   "outputs": [
    {
     "name": "stdout",
     "output_type": "stream",
     "text": [
      "[500, 400, 300, 200, 100]\n"
     ]
    }
   ],
   "source": [
    "List = [100, 200, 300, 400, 500]\n",
    "List.reverse()\n",
    "print(List)\n"
   ]
  },
  {
   "cell_type": "markdown",
   "id": "6bd6f095",
   "metadata": {},
   "source": [
    "Q2. Concatenate two following given lists index-wise.\n",
    "list1 = [\"M\", \"na\", \"i\", \"Raj\"]\n",
    "list2 = [\"y\", \"me\", \"s\", \"esh\"]"
   ]
  },
  {
   "cell_type": "code",
   "execution_count": 3,
   "id": "d94066b2",
   "metadata": {},
   "outputs": [
    {
     "name": "stdout",
     "output_type": "stream",
     "text": [
      "['My', 'name', 'is', 'Rajesh']\n"
     ]
    }
   ],
   "source": [
    "list1 = [\"M\", \"na\", \"i\", \"Raj\"]\n",
    "list2 = [\"y\", \"me\", \"s\", \"esh\"]\n",
    "\n",
    "concatenated_list = [x + y for x, y in zip(list1, list2)]\n",
    "print(concatenated_list)\n"
   ]
  },
  {
   "cell_type": "markdown",
   "id": "ef199ace",
   "metadata": {},
   "source": [
    "Q3. Given a Python list of numbers. Turn every item of a list into its square\n",
    "aList = [1, 2, 3, 4, 5, 6, 7]"
   ]
  },
  {
   "cell_type": "code",
   "execution_count": 4,
   "id": "68320c36",
   "metadata": {},
   "outputs": [
    {
     "name": "stdout",
     "output_type": "stream",
     "text": [
      "[1, 4, 9, 16, 25, 36, 49]\n"
     ]
    }
   ],
   "source": [
    "aList = [1, 2, 3, 4, 5, 6, 7]\n",
    "squared_list = [x**2 for x in aList]\n",
    "print(squared_list)\n"
   ]
  },
  {
   "cell_type": "markdown",
   "id": "29f9153b",
   "metadata": {},
   "source": [
    "Q4. Concatenate two lists in the following order\n"
   ]
  },
  {
   "cell_type": "code",
   "execution_count": 5,
   "id": "fc999170",
   "metadata": {},
   "outputs": [
    {
     "name": "stdout",
     "output_type": "stream",
     "text": [
      "['Hello Students', 'Hello Sir', 'Welcome Students', 'Welcome Sir']\n"
     ]
    }
   ],
   "source": [
    "# To concatenate two lists in a specific order, you can use nested loops or list comprehensions\n",
    "\n",
    "list1 = [\"Hello \", \"Welcome \"]\n",
    "list2 = [\"Students\", \"Sir\"]\n",
    "\n",
    "concatenated_list = []\n",
    "for item1 in list1:\n",
    "    for item2 in list2:\n",
    "        concatenated_list.append(item1 + item2)\n",
    "\n",
    "print(concatenated_list)\n"
   ]
  },
  {
   "cell_type": "markdown",
   "id": "e223b11e",
   "metadata": {},
   "source": [
    "Q5. Accept numbers from user and store it in a list1 and list2 then convert these list into array create list3 and list4 to store numbers."
   ]
  },
  {
   "cell_type": "code",
   "execution_count": 6,
   "id": "a5407d86",
   "metadata": {},
   "outputs": [
    {
     "name": "stdout",
     "output_type": "stream",
     "text": [
      "Enter the number of elements for list1: 4\n",
      "Enter a number for list1: 12\n",
      "Enter a number for list1: 23\n",
      "Enter a number for list1: 34\n",
      "Enter a number for list1: 54\n",
      "Enter the number of elements for list2: 2\n",
      "Enter a number for list2: 11\n",
      "Enter a number for list2: 12\n",
      "list1: [12, 23, 34, 54]\n",
      "list2: [11, 12]\n",
      "array1: [12 23 34 54]\n",
      "array2: [11 12]\n",
      "list3: [12, 23, 34, 54]\n",
      "list4: [11, 12]\n"
     ]
    }
   ],
   "source": [
    "# Accepting numbers from the user and store them in list1\n",
    "list1 = []\n",
    "n = int(input(\"Enter the number of elements for list1: \"))\n",
    "for _ in range(n):\n",
    "    num = int(input(\"Enter a number for list1: \"))\n",
    "    list1.append(num)\n",
    "\n",
    "# Accepting numbers from the user and store them in list2\n",
    "list2 = []\n",
    "n = int(input(\"Enter the number of elements for list2: \"))\n",
    "for _ in range(n):\n",
    "    num = int(input(\"Enter a number for list2: \"))\n",
    "    list2.append(num)\n",
    "\n",
    "# Converting list1 and list2 into arrays\n",
    "array1 = np.array(list1)\n",
    "array2 = np.array(list2)\n",
    "\n",
    "# Creating list3 and list4 to store numbers from array1 and array2\n",
    "list3 = array1.tolist()\n",
    "list4 = array2.tolist()\n",
    "\n",
    "# Printing the lists and arrays\n",
    "print(\"list1:\", list1)\n",
    "print(\"list2:\", list2)\n",
    "print(\"array1:\", array1)\n",
    "print(\"array2:\", array2)\n",
    "print(\"list3:\", list3)\n",
    "print(\"list4:\", list4)\n"
   ]
  },
  {
   "cell_type": "markdown",
   "id": "edbe01f4",
   "metadata": {},
   "source": [
    "Q6: Write a python program to create class Student with instance student name, subject and marks. Print the output."
   ]
  },
  {
   "cell_type": "code",
   "execution_count": 8,
   "id": "66cda97d",
   "metadata": {},
   "outputs": [
    {
     "name": "stdout",
     "output_type": "stream",
     "text": [
      "Student Name: Ram Lakhan\n",
      "Subject: Aptitutde\n",
      "Marks: 54\n"
     ]
    }
   ],
   "source": [
    "class Student:\n",
    "    def __init__(self, name, subject, marks):\n",
    "        self.name = name\n",
    "        self.subject = subject\n",
    "        self.marks = marks\n",
    "\n",
    "    def display_student_info(self):\n",
    "        print(\"Student Name:\", self.name)\n",
    "        print(\"Subject:\", self.subject)\n",
    "        print(\"Marks:\", self.marks)\n",
    "\n",
    "\n",
    "# Create an instance of the Student class\n",
    "df = Student(\"Ram Lakhan\", \"Aptitutde\", 54)\n",
    "\n",
    "# Print the student information\n",
    "df.display_student_info()\n"
   ]
  },
  {
   "cell_type": "markdown",
   "id": "121e43e7",
   "metadata": {},
   "source": [
    "                                                ***"
   ]
  }
 ],
 "metadata": {
  "kernelspec": {
   "display_name": "Python 3 (ipykernel)",
   "language": "python",
   "name": "python3"
  },
  "language_info": {
   "codemirror_mode": {
    "name": "ipython",
    "version": 3
   },
   "file_extension": ".py",
   "mimetype": "text/x-python",
   "name": "python",
   "nbconvert_exporter": "python",
   "pygments_lexer": "ipython3",
   "version": "3.10.9"
  }
 },
 "nbformat": 4,
 "nbformat_minor": 5
}
