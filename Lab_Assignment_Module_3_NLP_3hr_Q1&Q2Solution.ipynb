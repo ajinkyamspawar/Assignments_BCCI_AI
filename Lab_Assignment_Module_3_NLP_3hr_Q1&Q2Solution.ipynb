{
 "cells": [
  {
   "cell_type": "markdown",
   "id": "f02d2424",
   "metadata": {},
   "source": [
    "LAB ASSIGNMENTS Module 3: Deep Learning and Natural Language Processing Natural Language Processing Methods"
   ]
  },
  {
   "cell_type": "markdown",
   "id": "8736da7e",
   "metadata": {},
   "source": [
    "Q1. Locate a free classical book on the Project Gutenberg website, download the ASCII version of the book and tokenize the text using any NLP library and save the result to a new file."
   ]
  },
  {
   "cell_type": "code",
   "execution_count": 1,
   "id": "4ec4fc49",
   "metadata": {},
   "outputs": [],
   "source": [
    "import requests\n",
    "from bs4 import BeautifulSoup\n",
    "import nltk\n",
    "from nltk.tokenize import word_tokenize\n",
    "from nltk.corpus import stopwords"
   ]
  },
  {
   "cell_type": "code",
   "execution_count": 2,
   "id": "e67c6b0d",
   "metadata": {},
   "outputs": [],
   "source": [
    "\n",
    "\n",
    "# Downloading a free classical book from Project Gutenberg\n",
    "def download_book(book_url):\n",
    "    response = requests.get(book_url)\n",
    "    return response.text\n",
    "\n",
    "# Tokenize the text and remove stopwords\n",
    "def tokenize_and_clean_text(text):\n",
    "    tokens = word_tokenize(text)\n",
    "    words = [word for word in tokens if word.isalnum()]\n",
    "    words = [word.lower() for word in words]\n",
    "    stop_words = set(stopwords.words('english'))\n",
    "    words = [word for word in words if word not in stop_words]\n",
    "    return words\n",
    "\n",
    "# Save the tokenized text to a new file\n",
    "def save_tokens_to_file(tokens, output_file):\n",
    "    with open(output_file, 'w', encoding='utf-8') as file:\n",
    "        file.write(\" \".join(tokens))\n",
    "\n",
    "\n"
   ]
  },
  {
   "cell_type": "code",
   "execution_count": 3,
   "id": "fe4d8635",
   "metadata": {},
   "outputs": [],
   "source": [
    "if __name__ == '__main__':\n",
    "    # Replacing the URL with the Project Gutenberg book URL you want to download\n",
    "    book_url = \"https://gutenberg.org/ebooks/71952\"\n",
    "\n",
    "    # Downloading the book\n",
    "    book_text = download_book(book_url)\n",
    "\n",
    "    # Tokenizing and clean the text\n",
    "    tokens = tokenize_and_clean_text(book_text)\n",
    "\n",
    "    # Specifying the output file for the tokenized text\n",
    "    output_file = \"tokenized_book.txt\"\n",
    "\n",
    "    # Saving the tokenized text to the output file\n",
    "    save_tokens_to_file(tokens, output_file)"
   ]
  },
  {
   "cell_type": "markdown",
   "id": "bb7698c9",
   "metadata": {},
   "source": [
    "Q2. Encode small contrived text documents for the bag-of-words model using scikit-learn and Keras methods"
   ]
  },
  {
   "cell_type": "code",
   "execution_count": 4,
   "id": "c45d2c13",
   "metadata": {},
   "outputs": [],
   "source": [
    "from sklearn.feature_extraction.text import CountVectorizer\n",
    "from keras.preprocessing.text import Tokenizer\n",
    "from keras.preprocessing.sequence import pad_sequences\n",
    "\n"
   ]
  },
  {
   "cell_type": "code",
   "execution_count": 5,
   "id": "e031d4be",
   "metadata": {},
   "outputs": [
    {
     "name": "stdout",
     "output_type": "stream",
     "text": [
      "Using scikit-learn (CountVectorizer):\n",
      "[[0 1 1 1 0 0 1 0 1]\n",
      " [0 2 0 1 0 1 1 0 1]\n",
      " [1 0 0 1 1 0 1 1 1]\n",
      " [0 1 1 1 0 0 1 0 1]]\n",
      "\n",
      "Using Keras (Tokenizer):\n",
      "[[0. 1. 1. 1. 1. 1. 0. 0. 0. 0.]\n",
      " [0. 1. 1. 1. 2. 0. 1. 0. 0. 0.]\n",
      " [0. 1. 1. 1. 0. 0. 0. 1. 1. 1.]\n",
      " [0. 1. 1. 1. 1. 1. 0. 0. 0. 0.]]\n",
      "\n",
      "Using Keras with Padding:\n",
      "[[0 1 2 3 5 4]\n",
      " [1 4 2 3 6 4]\n",
      " [7 1 2 3 8 9]\n",
      " [0 2 1 3 5 4]]\n"
     ]
    }
   ],
   "source": [
    "# Sample text documents\n",
    "documents = [\n",
    "    \"This is the first document.\",\n",
    "    \"This document is the second document.\",\n",
    "    \"And this is the third one.\",\n",
    "    \"Is this the first document?\"\n",
    "]\n",
    "\n",
    "# Using scikit-learn for Bag of Words encoding\n",
    "vectorizer = CountVectorizer()\n",
    "X_scikit = vectorizer.fit_transform(documents)\n",
    "\n",
    "# Using Keras for Bag of Words encoding\n",
    "tokenizer = Tokenizer()\n",
    "tokenizer.fit_on_texts(documents)\n",
    "X_keras = tokenizer.texts_to_matrix(documents, mode='count')\n",
    "\n",
    "# Printing the scikit-learn and Keras results\n",
    "print(\"Using scikit-learn (CountVectorizer):\")\n",
    "print(X_scikit.toarray())\n",
    "print(\"\\nUsing Keras (Tokenizer):\")\n",
    "print(X_keras)\n",
    "\n",
    "# If you want to pad sequences to have the same length using Keras\n",
    "# (This step is optional, but often used in NLP tasks)\n",
    "max_sequence_length = len(max(documents, key=len).split())\n",
    "X_keras_padded = pad_sequences(tokenizer.texts_to_sequences(documents), maxlen=max_sequence_length)\n",
    "\n",
    "print(\"\\nUsing Keras with Padding:\")\n",
    "print(X_keras_padded)\n"
   ]
  },
  {
   "cell_type": "code",
   "execution_count": null,
   "id": "f002e552",
   "metadata": {},
   "outputs": [],
   "source": []
  }
 ],
 "metadata": {
  "kernelspec": {
   "display_name": "Python 3 (ipykernel)",
   "language": "python",
   "name": "python3"
  },
  "language_info": {
   "codemirror_mode": {
    "name": "ipython",
    "version": 3
   },
   "file_extension": ".py",
   "mimetype": "text/x-python",
   "name": "python",
   "nbconvert_exporter": "python",
   "pygments_lexer": "ipython3",
   "version": "3.11.5"
  }
 },
 "nbformat": 4,
 "nbformat_minor": 5
}
